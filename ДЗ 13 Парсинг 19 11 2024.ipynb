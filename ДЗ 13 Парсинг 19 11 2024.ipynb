{
 "cells": [
  {
   "cell_type": "code",
   "execution_count": 11,
   "id": "b2f07248-ad6a-438e-8b8d-b0efdd10a9be",
   "metadata": {},
   "outputs": [],
   "source": [
    "import pandas as pd\n",
    "import statsmodels.api as sm\n",
    "import numpy as np\n",
    "import matplotlib.pyplot as plt\n",
    "import seaborn as sns\n",
    "import warnings\n",
    "warnings.filterwarnings(\"ignore\")\n",
    "from scipy import stats\n",
    "import statistics\n",
    "from scipy.stats import mannwhitneyu\n",
    "import pymorphy2"
   ]
  },
  {
   "cell_type": "markdown",
   "id": "3be6d80c-8b43-496e-b248-9703e4687de3",
   "metadata": {},
   "source": [
    "##### патч для работы модуля pymorphy2 на старых версиях python"
   ]
  },
  {
   "cell_type": "code",
   "execution_count": 13,
   "id": "ce0484e6-81fa-400f-81f0-5c8d4b46644c",
   "metadata": {},
   "outputs": [],
   "source": [
    "def pymorphy2_311_hotfix():\n",
    "    from inspect import getfullargspec\n",
    "    from pymorphy2.units.base import BaseAnalyzerUnit\n",
    "\n",
    "    def _get_param_names_311(klass):\n",
    "        if klass.__init__ is object.__init__:\n",
    "            return []\n",
    "        args = getfullargspec(klass.__init__).args\n",
    "        return sorted(args[1:])\n",
    "\n",
    "    setattr(BaseAnalyzerUnit, '_get_param_names', _get_param_names_311)"
   ]
  },
  {
   "cell_type": "code",
   "execution_count": 15,
   "id": "5e940913-687a-458a-b7be-f4cc46fd0bc0",
   "metadata": {},
   "outputs": [],
   "source": [
    "pymorphy2_311_hotfix()\n",
    "morph = pymorphy2.MorphAnalyzer()"
   ]
  },
  {
   "cell_type": "markdown",
   "id": "5e3b326f-74bd-45b2-ab83-6b6aa5a720cf",
   "metadata": {},
   "source": [
    "##### Выбрать на сайте http://www.lib.ru любой крупный текст, например, русскую классику\n",
    "Выбрал сказку Михаэль Энде. Бесконечная история\n",
    "http://www.lib.ru/INPROZ/ENDE/istoriya.txt"
   ]
  },
  {
   "cell_type": "markdown",
   "id": "ba448863-32fb-45b8-8623-3551ff022860",
   "metadata": {},
   "source": [
    "##### С помощью следующего кода провести парсинг текста в строку (установить библиотеку bs4!)"
   ]
  },
  {
   "cell_type": "code",
   "execution_count": 33,
   "id": "a9fc94f3-17b5-4b23-9439-caff32ec276e",
   "metadata": {},
   "outputs": [],
   "source": [
    "import bs4\n",
    "import requests\n",
    "import string\n",
    "\n",
    "url = \"http://www.lib.ru/INPROZ/ENDE/istoriya.txt\"\n",
    "#получаем содержимое страницы\n",
    "response = requests.get(url)\n",
    "#парсим страницу при помощи lxml\n",
    "soup = bs4.BeautifulSoup(response.text,'lxml')\n",
    "#достаем из body текст разделяем пробелами и убираем лишние пробелы\n",
    "text = soup.body.get_text(' ', strip=True)\n",
    "#переменна text содержит информацию с страницы из лишних пробелов"
   ]
  },
  {
   "cell_type": "markdown",
   "id": "c90fdc11-83d7-413d-9568-6ea40d325476",
   "metadata": {},
   "source": [
    "##### Определить 10 самых часто встречающихся слов "
   ]
  },
  {
   "cell_type": "code",
   "execution_count": 59,
   "id": "56d1eb9f-1012-464f-95bf-8c509795724c",
   "metadata": {},
   "outputs": [
    {
     "data": {
      "text/html": [
       "<div>\n",
       "<style scoped>\n",
       "    .dataframe tbody tr th:only-of-type {\n",
       "        vertical-align: middle;\n",
       "    }\n",
       "\n",
       "    .dataframe tbody tr th {\n",
       "        vertical-align: top;\n",
       "    }\n",
       "\n",
       "    .dataframe thead th {\n",
       "        text-align: right;\n",
       "    }\n",
       "</style>\n",
       "<table border=\"1\" class=\"dataframe\">\n",
       "  <thead>\n",
       "    <tr style=\"text-align: right;\">\n",
       "      <th></th>\n",
       "      <th>word</th>\n",
       "      <th>count</th>\n",
       "    </tr>\n",
       "  </thead>\n",
       "  <tbody>\n",
       "    <tr>\n",
       "      <th>0</th>\n",
       "      <td>и</td>\n",
       "      <td>4279</td>\n",
       "    </tr>\n",
       "    <tr>\n",
       "      <th>1</th>\n",
       "      <td>не</td>\n",
       "      <td>2305</td>\n",
       "    </tr>\n",
       "    <tr>\n",
       "      <th>2</th>\n",
       "      <td>в</td>\n",
       "      <td>2285</td>\n",
       "    </tr>\n",
       "    <tr>\n",
       "      <th>3</th>\n",
       "      <td>он</td>\n",
       "      <td>1933</td>\n",
       "    </tr>\n",
       "    <tr>\n",
       "      <th>4</th>\n",
       "      <td>на</td>\n",
       "      <td>1703</td>\n",
       "    </tr>\n",
       "    <tr>\n",
       "      <th>5</th>\n",
       "      <td>что</td>\n",
       "      <td>1568</td>\n",
       "    </tr>\n",
       "    <tr>\n",
       "      <th>6</th>\n",
       "      <td>с</td>\n",
       "      <td>974</td>\n",
       "    </tr>\n",
       "    <tr>\n",
       "      <th>7</th>\n",
       "      <td>но</td>\n",
       "      <td>967</td>\n",
       "    </tr>\n",
       "    <tr>\n",
       "      <th>8</th>\n",
       "      <td>все</td>\n",
       "      <td>961</td>\n",
       "    </tr>\n",
       "    <tr>\n",
       "      <th>9</th>\n",
       "      <td>бастиан</td>\n",
       "      <td>960</td>\n",
       "    </tr>\n",
       "  </tbody>\n",
       "</table>\n",
       "</div>"
      ],
      "text/plain": [
       "      word  count\n",
       "0        и   4279\n",
       "1       не   2305\n",
       "2        в   2285\n",
       "3       он   1933\n",
       "4       на   1703\n",
       "5      что   1568\n",
       "6        с    974\n",
       "7       но    967\n",
       "8      все    961\n",
       "9  бастиан    960"
      ]
     },
     "execution_count": 59,
     "metadata": {},
     "output_type": "execute_result"
    }
   ],
   "source": [
    "#убираем знаки все знаки, все символы делаем малым регистром и разделение текста на слова \n",
    "text = text.lower().translate(str.maketrans('', '', string.punctuation)).translate(str.maketrans('', '', string.digits))\n",
    "words = text.split() \n",
    "#создание датафрейма и запишем в него слова построчно\n",
    "df = pd.DataFrame(words, columns=['word'])\n",
    "#как часто встречаются слова\n",
    "df_counts = df['word'].value_counts().reset_index()\n",
    "#вывод 10 самых часто встречающихся слов из текста\n",
    "df_counts.sort_values(by='count', ascending=False).head(10)"
   ]
  },
  {
   "cell_type": "markdown",
   "id": "0451c1b9-6bfb-45cd-91b1-111dbec9f554",
   "metadata": {},
   "source": [
    "##### Построить гистограмму распределения"
   ]
  },
  {
   "cell_type": "code",
   "execution_count": 73,
   "id": "c58b59e1-3029-4f9a-8712-ec7ae5d18d2e",
   "metadata": {},
   "outputs": [
    {
     "data": {
      "image/png": "[encoded data removed]",
      "text/plain": [
       "<Figure size 1000x600 with 1 Axes>"
      ]
     },
     "metadata": {},
     "output_type": "display_data"
    }
   ],
   "source": [
    "df_bar = df_counts.sort_values(by='count', ascending=False).head(10)\n",
    "plt.figure(figsize=(10, 6))\n",
    "plt.bar(df_bar['word'], df_bar['count'], color='skyblue')\n",
    "plt.xlabel('cлова')\n",
    "plt.ylabel('частота')\n",
    "plt.title('10 самых часто встречающихся слов')\n",
    "plt.show()"
   ]
  },
  {
   "cell_type": "code",
   "execution_count": null,
   "id": "faf1281b-1cb7-4d70-aeff-b0b31b65a108",
   "metadata": {},
   "outputs": [],
   "source": []
  }
 ],
 "metadata": {
  "kernelspec": {
   "display_name": "Python 3 (ipykernel)",
   "language": "python",
   "name": "python3"
  },
  "language_info": {
   "codemirror_mode": {
    "name": "ipython",
    "version": 3
   },
   "file_extension": ".py",
   "mimetype": "text/x-python",
   "name": "python",
   "nbconvert_exporter": "python",
   "pygments_lexer": "ipython3",
   "version": "3.12.4"
  }
 },
 "nbformat": 4,
 "nbformat_minor": 5
}
